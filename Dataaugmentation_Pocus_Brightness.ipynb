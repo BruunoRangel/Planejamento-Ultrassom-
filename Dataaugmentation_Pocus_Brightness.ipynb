{
  "nbformat": 4,
  "nbformat_minor": 0,
  "metadata": {
    "colab": {
      "provenance": [],
      "authorship_tag": "ABX9TyMfytYU+D+f4ibRtHZ2qx24",
      "include_colab_link": true
    },
    "kernelspec": {
      "name": "python3",
      "display_name": "Python 3"
    },
    "language_info": {
      "name": "python"
    }
  },
  "cells": [
    {
      "cell_type": "markdown",
      "metadata": {
        "id": "view-in-github",
        "colab_type": "text"
      },
      "source": [
        "<a href=\"https://colab.research.google.com/github/BruunoRangel/Planejamento-Ultrassom-/blob/main/Dataaugmentation_Pocus_Brightness.ipynb\" target=\"_parent\"><img src=\"https://colab.research.google.com/assets/colab-badge.svg\" alt=\"Open In Colab\"/></a>"
      ]
    },
    {
      "cell_type": "code",
      "execution_count": null,
      "metadata": {
        "colab": {
          "base_uri": "https://localhost:8080/"
        },
        "id": "Ic85GW_w1rCN",
        "outputId": "c46e0c77-d7a2-4c23-a64c-db06afa454a5"
      },
      "outputs": [
        {
          "output_type": "stream",
          "name": "stdout",
          "text": [
            "Mounted at /content/gdrive\n"
          ]
        }
      ],
      "source": [
        "from __future__ import print_function, division\n",
        "import matplotlib.pyplot as plt\n",
        "import torch\n",
        "import torch.nn as nn\n",
        "import torch.optim as optim\n",
        "from torch.optim import lr_scheduler\n",
        "import numpy as np\n",
        "import torchvision\n",
        "from torchvision import datasets, models, transforms\n",
        "from torchsummary import summary\n",
        "import time\n",
        "import os\n",
        "import copy\n",
        "from sklearn.metrics import confusion_matrix\n",
        "from torchvision.models import resnet50\n",
        "from torchvision.models import resnet50\n",
        "plt.ion()   # interactive mode\n",
        "from PIL import Image\n",
        "import random\n",
        "# connect drive\n",
        "from google.colab import drive\n",
        "from torch.utils.data import ConcatDataset\n",
        "drive.mount('/content/gdrive')"
      ]
    },
    {
      "cell_type": "code",
      "source": [
        "import cv2\n",
        "\n",
        "\n",
        "# Directory containing the original images\n",
        "input_dir = 'gdrive/MyDrive/Modelo_01/data/data_pocus/train/'\n",
        "\n",
        "# Directory to save the augmented images\n",
        "output_dir = 'gdrive/MyDrive/Modelo_01/data/data_pocus02/'\n",
        "\n",
        "\n",
        "# Define the brightness range\n",
        "brightness_range = (0.7, 1.3)\n",
        "\n",
        "# Define the number of augmented samples for each class\n",
        "num_augmentations = {\n",
        "    'saudável': 2,\n",
        "    'pneumonia ': 3,\n",
        "    'covid': 5\n",
        "}\n",
        "\n",
        "# Function to apply brightness augmentation\n",
        "def apply_brightness(image, brightness_factor):\n",
        "    brightened_image = image * brightness_factor\n",
        "    return brightened_image\n",
        "\n",
        "# Iterate over the classes\n",
        "for class_name, num_augment in num_augmentations.items():\n",
        "    class_dir = os.path.join(input_dir, class_name)\n",
        "    images = os.listdir(class_dir)\n",
        "\n",
        "    # Iterate over the images in the class\n",
        "    for image_name in images:\n",
        "        # Load the image\n",
        "        image_path = os.path.join(class_dir, image_name)\n",
        "        image = cv2.imread(image_path)\n",
        "\n",
        "        # Apply brightness augmentation\n",
        "        for i in range(num_augment):\n",
        "            # Generate a random brightness factor within the specified range\n",
        "            brightness_factor = np.random.uniform(*brightness_range)\n",
        "\n",
        "            # Apply brightness augmentation\n",
        "            brightened_image = apply_brightness(image, brightness_factor)\n",
        "\n",
        "            # Save the augmented image to the output directory\n",
        "            output_class_dir = os.path.join(output_dir, class_name)\n",
        "            os.makedirs(output_class_dir, exist_ok=True)\n",
        "            augmented_image_name = f\"{image_name.split('.')[0]}_augmented_{i+1}.{image_name.split('.')[-1]}\"\n",
        "            output_path = os.path.join(output_class_dir, augmented_image_name)\n",
        "            cv2.imwrite(output_path, brightened_image)"
      ],
      "metadata": {
        "id": "0zfvTf-U2DsY"
      },
      "execution_count": null,
      "outputs": []
    },
    {
      "cell_type": "code",
      "source": [
        "import shutil\n",
        "\n",
        "\n",
        "output_dir_expanded = 'gdrive/MyDrive/Modelo_01/data/pocus_augmentation/'\n",
        "os.makedirs(output_dir_expanded, exist_ok=True)\n",
        "\n",
        "# Copiar as imagens originais para o diretório expandido\n",
        "for class_name in ['saudável', 'pneumonia ', 'covid']:\n",
        "    class_dir_original = os.path.join(input_dir, class_name)\n",
        "    class_dir_expanded = os.path.join(output_dir_expanded, class_name)\n",
        "    os.makedirs(class_dir_expanded, exist_ok=True)\n",
        "\n",
        "    images = os.listdir(class_dir_original)\n",
        "    for image_name in images:\n",
        "        image_path_original = os.path.join(class_dir_original, image_name)\n",
        "        image_path_expanded = os.path.join(class_dir_expanded, image_name)\n",
        "        shutil.copyfile(image_path_original, image_path_expanded)\n",
        "\n",
        "# Copiar as imagens aumentadas para o diretório expandido\n",
        "for class_name in ['saudável', 'pneumonia ', 'covid']:\n",
        "    class_dir_expanded = os.path.join(output_dir_expanded, class_name)\n",
        "    class_dir_augmented = os.path.join(output_dir, class_name)\n",
        "\n",
        "    images_augmented = os.listdir(class_dir_augmented)\n",
        "    for image_name_augmented in images_augmented:\n",
        "        image_path_augmented = os.path.join(class_dir_augmented, image_name_augmented)\n",
        "        image_path_expanded = os.path.join(class_dir_expanded, image_name_augmented)\n",
        "        shutil.copyfile(image_path_augmented, image_path_expanded)\n"
      ],
      "metadata": {
        "id": "bomUnPG42ItZ"
      },
      "execution_count": null,
      "outputs": []
    }
  ]
}